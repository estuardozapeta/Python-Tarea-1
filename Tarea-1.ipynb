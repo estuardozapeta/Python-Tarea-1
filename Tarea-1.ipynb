{
 "cells": [
  {
   "cell_type": "markdown",
   "metadata": {},
   "source": [
    "# Sistema de Control de Versiones - GIT\n",
    "\n",
    "## ¿Que es el Control de versiones?\n",
    "\n",
    "Una herramienta de control de versiones permite administrar diferentes versiones de un proyecto a medida que este va madurando, además de crear un entorno colaborativo permitiendo que otros involucrados en el desarrollo del proyecto puedan realizar cambios que eventualmente serán integrados.\n",
    "\n",
    "## ¿Que es GIT?\n",
    "\n",
    "GIT es un sistema de control de versiones pero con marcadas diferencias en relación a sus predecesores, por ejemplo, GIT guarda los datos como si fueran fotografías instantáneas, almacenando toda una secuencia de esas fotos en todo el periodo de tiempo que hay cambios. Otra de las bondades de GIT es que lleva una bitácora de las operaciones de manera local (modificaciones o eliminaciones que sufra uno o varios archivos), permitiendo un desplazamiento por todo el histórico de versiones.\n",
    "\n",
    "Otra de las ventajas de GIT va asociada a la conectividad, por ejemplo si no hay red para cargar los cambios se cuenta con una base de datos local que los registra para que cuando haya conexión solo se confirmen, a diferencia de otras herramientas que requieren conectividad para efectuar esta confirmación.\n",
    "\n",
    "## ¿Qué estados puede alcanzar un archivo en GIT?\n",
    "\n",
    "Con esta herramienta todo parece tan simple, los archivos únicamente poseerán tres estados que utiliza GIT para el control y registro de las fotos instantáneas en el tiempo. Estos estados son:\n",
    "\n",
    "* GIT Directory: Directorio de configuración que guarda la metadata y el registro de cambios que sufren los archivos, GIT utiliza este directorio para consultar la trayectoria en el ciclo de vida de un archivo.\n",
    "* Working Directory: Es el área de trabajo local o dicho de otra manera es la copia del proyecto en la PC que se sincroniza con el repositorio de GIT al confirmar cambios.\n",
    "* Staging Area: Si se agrega uno o varios elementos al directorio de trabajo, estos antes de ser confirmados deben ser agregados o dicho de otra manera formarán parte del área de preparación, estos serán únicamente los que se consideren en la siguiente confirmación al repositorio.\n"
   ]
  }
 ],
 "metadata": {
  "kernelspec": {
   "display_name": "Python 3",
   "language": "python",
   "name": "python3"
  },
  "language_info": {
   "codemirror_mode": {
    "name": "ipython",
    "version": 3
   },
   "file_extension": ".py",
   "mimetype": "text/x-python",
   "name": "python",
   "nbconvert_exporter": "python",
   "pygments_lexer": "ipython3",
   "version": "3.7.4"
  }
 },
 "nbformat": 4,
 "nbformat_minor": 4
}
