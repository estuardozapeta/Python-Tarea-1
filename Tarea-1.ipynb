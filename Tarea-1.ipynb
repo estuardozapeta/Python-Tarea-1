{
 "cells": [
  {
   "cell_type": "markdown",
   "metadata": {},
   "source": [
    "Sistema de Control de Versiones - GIT\n",
    "\n",
    "¿Que es el Control de versiones?\n",
    "\n",
    "Una herramienta de control de versiones permite administrar diferentes versiones de un proyecto a medida que este va madurando, además de crear un entorno colaborativo permitiendo que otros involucrados en el desarrollo del proyecto puedan realizar cambios que eventualmente serán integrados.\n",
    "\n",
    "¿Que es GIT?\n",
    "\n",
    "GIT es un sistema de control de versiones pero con marcadas diferencias en relación a sus predecesores, por ejemplo, GIT guarda los datos como si fueran fotografías instantáneas, almacenando toda una secuencia de esas fotos en todo el periodo de tiempo que hay cambios. Otra de las bondades de GIT es que lleva una bitácora de las operaciones de manera local (modificaciones o eliminaciones que sufra uno o varios archivos), permitiendo un desplazamiento por todo el histórico de versiones.\n"
   ]
  }
 ],
 "metadata": {
  "kernelspec": {
   "display_name": "Python 3",
   "language": "python",
   "name": "python3"
  },
  "language_info": {
   "codemirror_mode": {
    "name": "ipython",
    "version": 3
   },
   "file_extension": ".py",
   "mimetype": "text/x-python",
   "name": "python",
   "nbconvert_exporter": "python",
   "pygments_lexer": "ipython3",
   "version": "3.7.4"
  }
 },
 "nbformat": 4,
 "nbformat_minor": 4
}
